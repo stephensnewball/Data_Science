{
  "metadata": {
    "kernelspec": {
      "name": "python",
      "display_name": "Python (Pyodide)",
      "language": "python"
    },
    "language_info": {
      "codemirror_mode": {
        "name": "python",
        "version": 3
      },
      "file_extension": ".py",
      "mimetype": "text/x-python",
      "name": "python",
      "nbconvert_exporter": "python",
      "pygments_lexer": "ipython3",
      "version": "3.8"
    }
  },
  "nbformat_minor": 4,
  "nbformat": 4,
  "cells": [
    {
      "cell_type": "markdown",
      "source": "# H1: \"Data Science Tools and Ecosystem\"",
      "metadata": {}
    },
    {
      "cell_type": "markdown",
      "source": "En este cuaderno, se resumen las herramientas y ecosistemas de ciencia de datos. A lo largo del cuaderno, exploraremos los lenguajes de programación más utilizados en este campo, las bibliotecas clave que facilitan el análisis de datos, así como las herramientas de código abierto que permiten el desarrollo y la visualización de modelos de datos. Además, abordaremos conceptos fundamentales como operaciones aritméticas en Python y cómo convertir unidades de medida para facilitar el análisis de datos en diferentes contextos. Este cuaderno tiene como objetivo proporcionar una visión integral y práctica de las herramientas esenciales en el ecosistema de ciencia de datos.\n",
      "metadata": {}
    },
    {
      "cell_type": "markdown",
      "source": "**Objetivos:**\n- Listar lenguajes populares para Ciencia de Datos.\n- Enumerar bibliotecas comúnmente usadas en Ciencia de Datos.\n- Identificar herramientas de desarrollo de código abierto utilizadas en Ciencia de Datos.\n- Evaluar expresiones aritméticas en Python.\n- Convertir unidades como minutos a horas utilizando operaciones matemáticas en Python",
      "metadata": {}
    },
    {
      "cell_type": "markdown",
      "source": "Algunos de los lenguajes populares que utilizan los científicos de datos son:\n1. Python\n2. R\n3. SQL\n4. Julia",
      "metadata": {}
    },
    {
      "cell_type": "markdown",
      "source": "Algunas de las bibliotecas comúnmente utilizadas por los científicos de datos incluyen:\n1. Pandas\n2. NumPy\n3. Scikit-learn\n4. Matplotlib",
      "metadata": {}
    },
    {
      "cell_type": "markdown",
      "source": "| Herramientas de Ciencia de Datos |\n| -------------------------------- |\n| Jupyter Notebook                 |\n| RStudio                          |\n| Visual Studio Code               |\n",
      "metadata": {}
    },
    {
      "cell_type": "markdown",
      "source": "### H3: A continuación se presentan algunos ejemplos de evaluación de expresiones aritméticas en Python\n5 + 3  # Resultado: 8\n\n10 - 4  # Resultado: 6\n\n7 * 6  # Resultado: 42\n",
      "metadata": {}
    },
    {
      "cell_type": "code",
      "source": "# Esta es una expresión aritmética simple para multiplicar y luego sumar enteros.\n(3*4) + 5",
      "metadata": {
        "trusted": true
      },
      "outputs": [
        {
          "execution_count": 1,
          "output_type": "execute_result",
          "data": {
            "text/plain": "17"
          },
          "metadata": {}
        }
      ],
      "execution_count": 1
    },
    {
      "cell_type": "code",
      "source": "",
      "metadata": {
        "trusted": true
      },
      "outputs": [],
      "execution_count": null
    },
    {
      "cell_type": "markdown",
      "source": "## Autor\n[S Stephens Newball]\n",
      "metadata": {}
    },
    {
      "cell_type": "code",
      "source": "",
      "metadata": {
        "trusted": true
      },
      "outputs": [],
      "execution_count": null
    }
  ]
}